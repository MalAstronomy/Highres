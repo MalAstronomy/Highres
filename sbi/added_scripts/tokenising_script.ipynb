{
 "cells": [
  {
   "cell_type": "code",
   "execution_count": 1,
   "metadata": {},
   "outputs": [],
   "source": [
    "import numpy as np\n",
    "from lampe.data import H5Dataset\n",
    "from pathlib import Path\n",
    "import os\n",
    "import torch\n",
    "import matplotlib.pyplot as plt\n",
    "\n",
    "import sys\n",
    "sys.path.insert(0, '/home/mvasist/Highres/')\n",
    "from DataProcuring import Data\n",
    "\n",
    "\n",
    "os.environ['SCRATCH'] = os.path.join('/scratch/users/mvasist/')\n",
    "scratch = os.environ.get('SCRATCH', '')\n",
    "# scratch = '/users/ricolandman/Research_data/npe_crires/'\n",
    "datapath = Path(scratch) / 'highres-sbi/data_fulltheta'\n",
    "datapath_old = Path(scratch) / 'highres-sbi/data'\n",
    "\n",
    "d = Data()\n"
   ]
  },
  {
   "cell_type": "code",
   "execution_count": 2,
   "metadata": {},
   "outputs": [
    {
     "data": {
      "text/plain": [
       "'\\nThese are batch_size random words picked randomly, and their progression of words word+blocksize forms a block,\\nthat are processed parallely. each having a length of n_emb. \\n\\nthe target is the words following it. \\n\\nso in my case, it would look like -\\n\\nbatch_size = 32\\nblock_size = 512\\nn_embedding = 512\\nn_blocks = 12\\nn_head = 8  \\n\\n'"
      ]
     },
     "execution_count": 2,
     "metadata": {},
     "output_type": "execute_result"
    }
   ],
   "source": [
    "'''\n",
    "These are batch_size random words picked randomly, and their progression of words word+blocksize forms a block,\n",
    "that are processed parallely. each having a length of n_emb. \n",
    "\n",
    "the target is the words following it. \n",
    "\n",
    "so in my case, it would look like -\n",
    "\n",
    "batch_size = 32\n",
    "block_size = 6000\n",
    "n_embedding = 512\n",
    "n_blocks = 12\n",
    "n_head = 8  \n",
    "\n",
    "'''"
   ]
  },
  {
   "cell_type": "code",
   "execution_count": 3,
   "metadata": {},
   "outputs": [],
   "source": [
    "batch_size = 32\n",
    "block_size = 512\n",
    "n_embedding = 512\n",
    "n_blocks = 12\n",
    "n_head = 8        \n",
    "\n",
    "def get_batch(data):\n",
    "    ix = torch.randint(len(data) - block_size, (batch_size,))\n",
    "    print(ix.size(), 'ix', ix)\n",
    "    x = torch.stack([data[i:i+block_size] for i in ix])\n",
    "    y = torch.stack([data[i+1:i+block_size+1] for i in ix])\n",
    "#     x, y = x.to(device), y.to(device)\n",
    "    return x, y"
   ]
  },
  {
   "cell_type": "code",
   "execution_count": 4,
   "metadata": {},
   "outputs": [],
   "source": [
    "data = torch.randn((7000)) "
   ]
  },
  {
   "cell_type": "code",
   "execution_count": 5,
   "metadata": {},
   "outputs": [
    {
     "name": "stdout",
     "output_type": "stream",
     "text": [
      "torch.Size([32]) ix tensor([3925, 4490, 1173, 5785, 3918, 1625, 1395,  963, 6275, 2695, 1415, 5409,\n",
      "        5672, 4886,  331, 5636, 6177, 4835, 5620, 2718,  920,  523, 5464, 5447,\n",
      "        6370,  826,  495, 6452,  557,  721, 2419, 4389])\n"
     ]
    }
   ],
   "source": [
    "x, y = get_batch(data)"
   ]
  },
  {
   "cell_type": "code",
   "execution_count": 6,
   "metadata": {},
   "outputs": [
    {
     "data": {
      "text/plain": [
       "(torch.Size([32, 512]), torch.Size([32, 512]))"
      ]
     },
     "execution_count": 6,
     "metadata": {},
     "output_type": "execute_result"
    }
   ],
   "source": [
    "x.size(), y.size()"
   ]
  },
  {
   "cell_type": "code",
   "execution_count": 7,
   "metadata": {},
   "outputs": [],
   "source": [
    "import tokenizers\n",
    "tokenizer = tokenizers.ByteLevelBPETokenizer()\n",
    "# tokenizer.train(\"harry-potter.txt\")\n",
    "vocab_size = 7000\n",
    "encode = lambda s: tokenizer.encode(s).ids\n",
    "decode = lambda l: tokenizer.decode(l)"
   ]
  },
  {
   "cell_type": "code",
   "execution_count": null,
   "metadata": {},
   "outputs": [],
   "source": []
  },
  {
   "cell_type": "code",
   "execution_count": 8,
   "metadata": {},
   "outputs": [],
   "source": [
    "trainset = H5Dataset(datapath / 'train.h5')\n",
    "validset = H5Dataset(datapath / 'valid.h5')"
   ]
  },
  {
   "cell_type": "code",
   "execution_count": 10,
   "metadata": {},
   "outputs": [
    {
     "ename": "TypeError",
     "evalue": "TextInputSequence must be str",
     "output_type": "error",
     "traceback": [
      "\u001b[0;31m---------------------------------------------------------------------------\u001b[0m",
      "\u001b[0;31mTypeError\u001b[0m                                 Traceback (most recent call last)",
      "Cell \u001b[0;32mIn[10], line 3\u001b[0m\n\u001b[1;32m      1\u001b[0m \u001b[38;5;28;01mfor\u001b[39;00m i \u001b[38;5;129;01min\u001b[39;00m trainset:\n\u001b[1;32m      2\u001b[0m     th, x \u001b[38;5;241m=\u001b[39m i\n\u001b[0;32m----> 3\u001b[0m     data \u001b[38;5;241m=\u001b[39m torch\u001b[38;5;241m.\u001b[39mtensor(\u001b[43mencode\u001b[49m\u001b[43m(\u001b[49m\u001b[43mx\u001b[49m\u001b[43m)\u001b[49m)\n\u001b[1;32m      4\u001b[0m     \u001b[38;5;28mprint\u001b[39m(data)\n\u001b[1;32m      5\u001b[0m     \u001b[38;5;28;01mbreak\u001b[39;00m\n",
      "Cell \u001b[0;32mIn[7], line 5\u001b[0m, in \u001b[0;36m<lambda>\u001b[0;34m(s)\u001b[0m\n\u001b[1;32m      3\u001b[0m \u001b[38;5;66;03m# tokenizer.train(\"harry-potter.txt\")\u001b[39;00m\n\u001b[1;32m      4\u001b[0m vocab_size \u001b[38;5;241m=\u001b[39m \u001b[38;5;241m7000\u001b[39m\n\u001b[0;32m----> 5\u001b[0m encode \u001b[38;5;241m=\u001b[39m \u001b[38;5;28;01mlambda\u001b[39;00m s: \u001b[43mtokenizer\u001b[49m\u001b[38;5;241;43m.\u001b[39;49m\u001b[43mencode\u001b[49m\u001b[43m(\u001b[49m\u001b[43ms\u001b[49m\u001b[43m)\u001b[49m\u001b[38;5;241m.\u001b[39mids\n\u001b[1;32m      6\u001b[0m decode \u001b[38;5;241m=\u001b[39m \u001b[38;5;28;01mlambda\u001b[39;00m l: tokenizer\u001b[38;5;241m.\u001b[39mdecode(l)\n",
      "File \u001b[0;32m~/miniconda3/envs/HighResear/lib/python3.9/site-packages/tokenizers/implementations/base_tokenizer.py:215\u001b[0m, in \u001b[0;36mBaseTokenizer.encode\u001b[0;34m(self, sequence, pair, is_pretokenized, add_special_tokens)\u001b[0m\n\u001b[1;32m    212\u001b[0m \u001b[38;5;28;01mif\u001b[39;00m sequence \u001b[38;5;129;01mis\u001b[39;00m \u001b[38;5;28;01mNone\u001b[39;00m:\n\u001b[1;32m    213\u001b[0m     \u001b[38;5;28;01mraise\u001b[39;00m \u001b[38;5;167;01mValueError\u001b[39;00m(\u001b[38;5;124m\"\u001b[39m\u001b[38;5;124mencode: `sequence` can\u001b[39m\u001b[38;5;124m'\u001b[39m\u001b[38;5;124mt be `None`\u001b[39m\u001b[38;5;124m\"\u001b[39m)\n\u001b[0;32m--> 215\u001b[0m \u001b[38;5;28;01mreturn\u001b[39;00m \u001b[38;5;28;43mself\u001b[39;49m\u001b[38;5;241;43m.\u001b[39;49m\u001b[43m_tokenizer\u001b[49m\u001b[38;5;241;43m.\u001b[39;49m\u001b[43mencode\u001b[49m\u001b[43m(\u001b[49m\u001b[43msequence\u001b[49m\u001b[43m,\u001b[49m\u001b[43m \u001b[49m\u001b[43mpair\u001b[49m\u001b[43m,\u001b[49m\u001b[43m \u001b[49m\u001b[43mis_pretokenized\u001b[49m\u001b[43m,\u001b[49m\u001b[43m \u001b[49m\u001b[43madd_special_tokens\u001b[49m\u001b[43m)\u001b[49m\n",
      "\u001b[0;31mTypeError\u001b[0m: TextInputSequence must be str"
     ]
    }
   ],
   "source": [
    "for i in trainset:\n",
    "    th, x = i\n",
    "    \n",
    "    data = torch.tensor(encode(x))\n",
    "    print(data)\n",
    "    break"
   ]
  },
  {
   "cell_type": "code",
   "execution_count": null,
   "metadata": {},
   "outputs": [],
   "source": [
    "'''\n",
    "each letter has a token which is a number lets say. and then the following \n",
    "\n",
    "'''"
   ]
  }
 ],
 "metadata": {
  "kernelspec": {
   "display_name": "Python [conda env:HighResear]",
   "language": "python",
   "name": "conda-env-HighResear-py"
  },
  "language_info": {
   "codemirror_mode": {
    "name": "ipython",
    "version": 3
   },
   "file_extension": ".py",
   "mimetype": "text/x-python",
   "name": "python",
   "nbconvert_exporter": "python",
   "pygments_lexer": "ipython3",
   "version": "3.9.7"
  }
 },
 "nbformat": 4,
 "nbformat_minor": 4
}
