{
 "cells": [
  {
   "cell_type": "code",
   "execution_count": 6,
   "metadata": {},
   "outputs": [],
   "source": [
    "import torch\n",
    "device = \"cuda\" if torch.cuda.is_available() else \"cpu\"\n",
    "\n",
    "batch_size = 32\n",
    "block_size = 512\n",
    "\n",
    "\n",
    "def get_batch(data):\n",
    "    ix = torch.randint(len(data) - block_size, (batch_size,))\n",
    "    print(ix)\n",
    "    x = torch.stack([data[i:i+block_size] for i in ix])\n",
    "    y = torch.stack([data[i+1:i+block_size+1] for i in ix])\n",
    "    x, y = x.to(device), y.to(device)\n",
    "    return x, y"
   ]
  },
  {
   "cell_type": "code",
   "execution_count": 7,
   "metadata": {},
   "outputs": [
    {
     "data": {
      "text/plain": [
       "torch.Size([1000])"
      ]
     },
     "execution_count": 7,
     "metadata": {},
     "output_type": "execute_result"
    }
   ],
   "source": [
    "data = torch.randn((1000))\n",
    "data.size()"
   ]
  },
  {
   "cell_type": "code",
   "execution_count": 8,
   "metadata": {},
   "outputs": [
    {
     "name": "stdout",
     "output_type": "stream",
     "text": [
      "tensor([298,  36, 485, 398, 478, 415, 213, 414,  75, 174, 174, 215, 292, 463,\n",
      "        228, 216, 394, 471, 265, 468, 387,  70, 167, 389,   1, 185, 457, 346,\n",
      "        203,  20, 316, 144])\n"
     ]
    },
    {
     "data": {
      "text/plain": [
       "(torch.Size([32, 512]), torch.Size([32, 512]))"
      ]
     },
     "execution_count": 8,
     "metadata": {},
     "output_type": "execute_result"
    }
   ],
   "source": [
    "x, y = get_batch(data)\n",
    "x.size(), y.size()"
   ]
  },
  {
   "cell_type": "code",
   "execution_count": 10,
   "metadata": {},
   "outputs": [
    {
     "data": {
      "text/plain": [
       "tensor([[ 0.6622, -0.1713,  0.0137,  ...,  1.8254, -1.7514,  0.5758],\n",
       "        [ 0.4835,  0.2532,  0.1748,  ...,  0.3878,  1.3287,  1.0314],\n",
       "        [ 0.8357, -0.1912, -0.4461,  ...,  0.0972, -0.1021, -0.7441],\n",
       "        ...,\n",
       "        [ 0.4724,  0.1179, -0.2373,  ..., -0.1339,  0.4963, -0.8573],\n",
       "        [-0.4516, -0.6836,  1.6792,  ..., -0.9584, -1.3133, -1.8018],\n",
       "        [-1.5091,  1.3658,  0.0984,  ..., -0.2807,  0.9801,  0.7553]])"
      ]
     },
     "execution_count": 10,
     "metadata": {},
     "output_type": "execute_result"
    }
   ],
   "source": [
    "x"
   ]
  },
  {
   "cell_type": "code",
   "execution_count": null,
   "metadata": {},
   "outputs": [],
   "source": []
  },
  {
   "cell_type": "code",
   "execution_count": null,
   "metadata": {},
   "outputs": [],
   "source": []
  },
  {
   "cell_type": "code",
   "execution_count": null,
   "metadata": {},
   "outputs": [],
   "source": []
  },
  {
   "cell_type": "code",
   "execution_count": 1,
   "metadata": {},
   "outputs": [],
   "source": [
    "import torch.nn as nn\n",
    "import torch\n",
    "from torch.nn import functional as F\n",
    "from Embedding.CausalConv1D import CausalConv1d\n",
    "from torch import Tensor\n",
    "from torch.nn import Conv1d \n",
    " "
   ]
  },
  {
   "cell_type": "code",
   "execution_count": 2,
   "metadata": {},
   "outputs": [
    {
     "data": {
      "text/plain": [
       "'cpu'"
      ]
     },
     "execution_count": 2,
     "metadata": {},
     "output_type": "execute_result"
    }
   ],
   "source": [
    "device = \"cuda\" if torch.cuda.is_available() else \"cpu\"\n",
    "device\n"
   ]
  },
  {
   "cell_type": "code",
   "execution_count": 3,
   "metadata": {},
   "outputs": [],
   "source": [
    "class SoftClip(nn.Module):\n",
    "    def __init__(self, bound: float = 1.0):\n",
    "        super().__init__()\n",
    "\n",
    "        self.bound = bound\n",
    "\n",
    "    def forward(self, x: Tensor) -> Tensor:\n",
    "        return x / (1 + abs(x / self.bound))"
   ]
  },
  {
   "cell_type": "code",
   "execution_count": 26,
   "metadata": {},
   "outputs": [],
   "source": [
    "\n",
    "layers = nn.Sequential(\n",
    "            SoftClip(100.0),\n",
    "            CausalConv1d(in_channels=2, out_channels=32, dilation=1, kernel_size=32, A=True, bias = True, stride = 2), #\n",
    "            nn.LeakyReLU(), \n",
    "            CausalConv1d(in_channels=32, out_channels=32, dilation=2, kernel_size=64, A=False, bias = True, stride = 2), \n",
    "            nn.LeakyReLU(), \n",
    "            CausalConv1d(in_channels=32, out_channels=32, dilation=4, kernel_size=128, A=False, bias = True, stride = 2), \n",
    "            nn.LeakyReLU(), \n",
    "            CausalConv1d(in_channels=32, out_channels=32, dilation=8, kernel_size=32, A=False, bias = True,  stride = 2), \n",
    "            nn.LeakyReLU(), \n",
    "            # CausalConv1d(in_channels=32, out_channels=32, dilation=16, kernel_size=32, A=False, bias = True), \n",
    "            # nn.LeakyReLU(), \n",
    "            # CausalConv1d(in_channels=32, out_channels=64, dilation=32, kernel_size=32, A=False, bias = True), \n",
    "            # nn.LeakyReLU(), \n",
    "            \n",
    "            # Conv1d(in_channels=64, out_channels=128, kernel_size=64, stride= 32), \n",
    "            # nn.LeakyReLU(),\n",
    "            # Conv1d(in_channels=128, out_channels=64, kernel_size=64, stride= 32), \n",
    "            # nn.LeakyReLU(),\n",
    "             )\n"
   ]
  },
  {
   "cell_type": "code",
   "execution_count": 27,
   "metadata": {},
   "outputs": [],
   "source": [
    "x = torch.randn((16, 2, 6144))\n",
    "# x = torch.randn((16, 2, 8))"
   ]
  },
  {
   "cell_type": "code",
   "execution_count": 28,
   "metadata": {},
   "outputs": [
    {
     "name": "stdout",
     "output_type": "stream",
     "text": [
      "torch.Size([16, 32, 116])\n"
     ]
    },
    {
     "data": {
      "text/plain": [
       "torch.Size([16, 3712])"
      ]
     },
     "execution_count": 28,
     "metadata": {},
     "output_type": "execute_result"
    }
   ],
   "source": [
    "x = layers(x)\n",
    "print(x.size())\n",
    "f = nn.Flatten()\n",
    "f(x).size()"
   ]
  },
  {
   "cell_type": "code",
   "execution_count": 76,
   "metadata": {},
   "outputs": [
    {
     "data": {
      "text/plain": [
       "torch.Size([16, 64, 4])"
      ]
     },
     "execution_count": 76,
     "metadata": {},
     "output_type": "execute_result"
    }
   ],
   "source": [
    "x.size()"
   ]
  },
  {
   "cell_type": "code",
   "execution_count": null,
   "metadata": {},
   "outputs": [],
   "source": []
  }
 ],
 "metadata": {
  "kernelspec": {
   "display_name": "Python 3",
   "language": "python",
   "name": "python3"
  },
  "language_info": {
   "codemirror_mode": {
    "name": "ipython",
    "version": 3
   },
   "file_extension": ".py",
   "mimetype": "text/x-python",
   "name": "python",
   "nbconvert_exporter": "python",
   "pygments_lexer": "ipython3",
   "version": "3.8.3"
  }
 },
 "nbformat": 4,
 "nbformat_minor": 2
}
