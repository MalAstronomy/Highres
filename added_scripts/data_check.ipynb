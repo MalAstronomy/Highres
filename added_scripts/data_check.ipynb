{
 "cells": [
  {
   "cell_type": "code",
   "execution_count": 1,
   "metadata": {},
   "outputs": [],
   "source": [
    "import numpy as np\n",
    "from lampe.data import H5Dataset\n",
    "from pathlib import Path\n",
    "import os\n",
    "import torch\n",
    "import matplotlib.pyplot as plt\n",
    "\n",
    "import sys\n",
    "sys.path.insert(0, '/home/mvasist/Highres/')\n",
    "from DataProcuring import Data\n",
    "\n",
    "\n",
    "os.environ['SCRATCH'] = os.path.join('/scratch/users/mvasist/')\n",
    "scratch = os.environ.get('SCRATCH', '')\n",
    "# scratch = '/users/ricolandman/Research_data/npe_crires/'\n",
    "datapath = Path(scratch) / 'highres-sbi/data_fulltheta'\n",
    "datapath_old = Path(scratch) / 'highres-sbi/data'\n",
    "\n",
    "d = Data()\n"
   ]
  },
  {
   "cell_type": "code",
   "execution_count": 2,
   "metadata": {},
   "outputs": [],
   "source": [
    "# 835584/1024, len(validset)/1024"
   ]
  },
  {
   "cell_type": "markdown",
   "metadata": {},
   "source": [
    "## Complete models"
   ]
  },
  {
   "cell_type": "code",
   "execution_count": 2,
   "metadata": {},
   "outputs": [],
   "source": [
    "trainset = H5Dataset(datapath / 'train.h5')\n",
    "trainset_l = H5Dataset(datapath / 'train_lessthan170.h5')\n",
    "trainset_landpos = H5Dataset(datapath / 'train_lessthan170_allpositive.h5')\n",
    "\n",
    "\n",
    "validset = H5Dataset(datapath / 'valid.h5')\n",
    "valid = H5Dataset(datapath / 'valid_lessthan170_allpositive.h5', batch_size = 4096)\n",
    "\n",
    "m = []"
   ]
  },
  {
   "cell_type": "code",
   "execution_count": 3,
   "metadata": {},
   "outputs": [
    {
     "data": {
      "text/plain": [
       "(835584, 835584, 835584, 102400)"
      ]
     },
     "execution_count": 3,
     "metadata": {},
     "output_type": "execute_result"
    }
   ],
   "source": [
    "len(trainset), len(trainset_l), len(trainset_landpos), len(validset)"
   ]
  },
  {
   "cell_type": "code",
   "execution_count": null,
   "metadata": {},
   "outputs": [],
   "source": []
  },
  {
   "cell_type": "code",
   "execution_count": 4,
   "metadata": {},
   "outputs": [
    {
     "name": "stdout",
     "output_type": "stream",
     "text": [
      "tensor([0.6428, 0.8573, 0.0514, 0.1821, 0.1558, 0.1480, 0.0516, 0.0405, 0.5537,\n",
      "        0.8963, 0.8978, 0.9768, 0.7189, 0.6995, 0.4908, 0.5229, 0.2970, 0.9503,\n",
      "        0.7748]) tensor([[ 0.1258,  0.1257,  0.1257,  ...,  0.1367,  0.1368,  0.1368],\n",
      "        [-0.5117, -0.5115, -0.5114,  ...,  0.4880,  0.4882,  0.4883]])\n"
     ]
    }
   ],
   "source": [
    "for th, x in trainset:\n",
    "    print(th, x)\n",
    "    break"
   ]
  },
  {
   "cell_type": "code",
   "execution_count": 17,
   "metadata": {},
   "outputs": [
    {
     "data": {
      "text/plain": [
       "tensor([0.6428, 0.8573, 0.0514, 0.1821, 0.1558, 0.1480, 0.0516, 0.0405, 0.5537,\n",
       "        0.8963, 0.8978, 0.9768, 0.7189, 0.6995, 0.4908, 0.5229, 0.2970, 0.9503,\n",
       "        0.7748])"
      ]
     },
     "execution_count": 17,
     "metadata": {},
     "output_type": "execute_result"
    }
   ],
   "source": [
    "th"
   ]
  },
  {
   "cell_type": "code",
   "execution_count": null,
   "metadata": {},
   "outputs": [],
   "source": []
  },
  {
   "cell_type": "code",
   "execution_count": null,
   "metadata": {},
   "outputs": [],
   "source": []
  },
  {
   "cell_type": "code",
   "execution_count": 27,
   "metadata": {},
   "outputs": [],
   "source": [
    "a = torch.randn([1024, 6144])\n",
    "l = torch.randn([1024])"
   ]
  },
  {
   "cell_type": "code",
   "execution_count": 28,
   "metadata": {},
   "outputs": [
    {
     "data": {
      "text/plain": [
       "(torch.Size([1024, 6144]), torch.Size([1024]))"
      ]
     },
     "execution_count": 28,
     "metadata": {},
     "output_type": "execute_result"
    }
   ],
   "source": [
    "a.size(), l.size()"
   ]
  },
  {
   "cell_type": "code",
   "execution_count": 29,
   "metadata": {},
   "outputs": [],
   "source": [
    "# l - > -log p(theta | x) \n",
    "# its hitting nan values because it gives inf loss. the p is almost zero. which means the log 0 is -inf. \n",
    "# and - log p is inf. So by checking the spec that gives inf will be useful. "
   ]
  },
  {
   "cell_type": "code",
   "execution_count": 31,
   "metadata": {},
   "outputs": [],
   "source": [
    "for i in np.random.randint(4, 300, 30):\n",
    "    l[i] = float('nan')"
   ]
  },
  {
   "cell_type": "code",
   "execution_count": 34,
   "metadata": {},
   "outputs": [
    {
     "data": {
      "text/plain": [
       "(tensor([False, False, False,  ..., False, False, False]), tensor(29))"
      ]
     },
     "execution_count": 34,
     "metadata": {},
     "output_type": "execute_result"
    }
   ],
   "source": [
    "mask = l.isnan()\n",
    "mask, mask.sum()"
   ]
  },
  {
   "cell_type": "code",
   "execution_count": 36,
   "metadata": {},
   "outputs": [
    {
     "data": {
      "text/plain": [
       "tensor([nan, nan, nan, nan, nan, nan, nan, nan, nan, nan, nan, nan, nan, nan, nan, nan, nan, nan, nan, nan, nan, nan, nan, nan,\n",
       "        nan, nan, nan, nan, nan])"
      ]
     },
     "execution_count": 36,
     "metadata": {},
     "output_type": "execute_result"
    }
   ],
   "source": [
    "l[mask]"
   ]
  },
  {
   "cell_type": "code",
   "execution_count": 42,
   "metadata": {},
   "outputs": [
    {
     "data": {
      "text/plain": [
       "(92160, 788480)"
      ]
     },
     "execution_count": 42,
     "metadata": {},
     "output_type": "execute_result"
    }
   ],
   "source": [
    "1024*90, 1024*770"
   ]
  },
  {
   "cell_type": "code",
   "execution_count": 11,
   "metadata": {},
   "outputs": [],
   "source": [
    "for j, (theta, x) in enumerate(trainset):\n",
    "    # print(x.size())\n",
    "#     print(j)\n",
    "    if torch.isnan(x).any():\n",
    "        print(j, 'there is a nan here')\n",
    "#     break\n",
    "#     m.append(x[0].mean())\n",
    "\n",
    "# np.savetxt('spectral_mean.csv', m)"
   ]
  },
  {
   "cell_type": "code",
   "execution_count": 5,
   "metadata": {},
   "outputs": [],
   "source": [
    "m = np.loadtxt('spectral_mean.csv')"
   ]
  },
  {
   "cell_type": "code",
   "execution_count": 6,
   "metadata": {},
   "outputs": [
    {
     "data": {
      "text/plain": [
       "(835584,)"
      ]
     },
     "execution_count": 6,
     "metadata": {},
     "output_type": "execute_result"
    }
   ],
   "source": [
    "np.shape(m)"
   ]
  },
  {
   "cell_type": "code",
   "execution_count": 10,
   "metadata": {},
   "outputs": [
    {
     "data": {
      "text/plain": [
       "(array([7.9533e+05, 1.3349e+04, 7.6110e+03, 5.7550e+03, 3.8390e+03,\n",
       "        2.8300e+03, 1.9450e+03, 1.4280e+03, 1.0280e+03, 8.3300e+02,\n",
       "        5.7200e+02, 3.9900e+02, 2.5600e+02, 1.8300e+02, 1.0200e+02,\n",
       "        6.5000e+01, 3.9000e+01, 1.0000e+01, 5.0000e+00, 5.0000e+00]),\n",
       " array([1.04206144e-10, 1.60889783e+02, 3.21779565e+02, 4.82669348e+02,\n",
       "        6.43559131e+02, 8.04448914e+02, 9.65338696e+02, 1.12622848e+03,\n",
       "        1.28711826e+03, 1.44800804e+03, 1.60889783e+03, 1.76978761e+03,\n",
       "        1.93067739e+03, 2.09156718e+03, 2.25245696e+03, 2.41334674e+03,\n",
       "        2.57423652e+03, 2.73512631e+03, 2.89601609e+03, 3.05690587e+03,\n",
       "        3.21779565e+03]),\n",
       " <BarContainer object of 20 artists>)"
      ]
     },
     "execution_count": 10,
     "metadata": {},
     "output_type": "execute_result"
    },
    {
     "data": {
      "image/png": "[encoded data removed]",
      "text/plain": [
       "<Figure size 640x480 with 1 Axes>"
      ]
     },
     "metadata": {},
     "output_type": "display_data"
    }
   ],
   "source": [
    "plt.hist(m, bins=20)\n",
    "# plt.xlim(0,170)"
   ]
  },
  {
   "cell_type": "code",
   "execution_count": 23,
   "metadata": {},
   "outputs": [
    {
     "data": {
      "text/plain": [
       "14.251608848571777"
      ]
     },
     "execution_count": 23,
     "metadata": {},
     "output_type": "execute_result"
    }
   ],
   "source": [
    "m\n",
    "np.median(m)"
   ]
  },
  {
   "cell_type": "markdown",
   "metadata": {},
   "source": [
    "## Incomplete models"
   ]
  },
  {
   "cell_type": "code",
   "execution_count": 7,
   "metadata": {},
   "outputs": [],
   "source": [
    "trainset_old = H5Dataset(datapath_old / 'train.h5')\n",
    "m_old = []"
   ]
  },
  {
   "cell_type": "code",
   "execution_count": 8,
   "metadata": {},
   "outputs": [],
   "source": [
    "# for theta, x in trainset_old:\n",
    "#     # print(x.size())\n",
    "#     m_old.append(x[0].mean())\n",
    "\n",
    "# np.savetxt('spectral_mean_old.csv', m_old)\n",
    "m_old = np.loadtxt('spectral_mean_old.csv')"
   ]
  },
  {
   "cell_type": "code",
   "execution_count": 9,
   "metadata": {},
   "outputs": [
    {
     "data": {
      "text/plain": [
       "(835584,)"
      ]
     },
     "execution_count": 9,
     "metadata": {},
     "output_type": "execute_result"
    }
   ],
   "source": [
    "np.shape(m_old)"
   ]
  },
  {
   "cell_type": "code",
   "execution_count": 10,
   "metadata": {},
   "outputs": [
    {
     "data": {
      "text/plain": [
       "(array([7.7116e+05, 2.4104e+04, 4.3880e+03, 4.5880e+03, 5.3280e+03,\n",
       "        3.9800e+03, 3.8760e+03, 3.3680e+03, 1.6320e+03, 2.8800e+03,\n",
       "        2.0440e+03, 1.9360e+03, 1.7320e+03, 1.1160e+03, 1.6200e+03,\n",
       "        6.0800e+02, 8.1600e+02, 3.0800e+02, 0.0000e+00, 1.0000e+02]),\n",
       " array([1.42144648e-10, 4.45733619e+01, 8.91467238e+01, 1.33720086e+02,\n",
       "        1.78293448e+02, 2.22866810e+02, 2.67440172e+02, 3.12013533e+02,\n",
       "        3.56586895e+02, 4.01160257e+02, 4.45733619e+02, 4.90306981e+02,\n",
       "        5.34880343e+02, 5.79453705e+02, 6.24027067e+02, 6.68600429e+02,\n",
       "        7.13173791e+02, 7.57747153e+02, 8.02320515e+02, 8.46893876e+02,\n",
       "        8.91467238e+02]),\n",
       " <BarContainer object of 20 artists>)"
      ]
     },
     "execution_count": 10,
     "metadata": {},
     "output_type": "execute_result"
    },
    {
     "data": {
      "image/png": "[encoded data removed]",
      "text/plain": [
       "<Figure size 640x480 with 1 Axes>"
      ]
     },
     "metadata": {},
     "output_type": "display_data"
    }
   ],
   "source": [
    "plt.hist(m_old*d.flux_scaling, bins=20)"
   ]
  },
  {
   "cell_type": "markdown",
   "metadata": {},
   "source": [
    "## Data "
   ]
  },
  {
   "cell_type": "code",
   "execution_count": 11,
   "metadata": {},
   "outputs": [
    {
     "data": {
      "text/plain": [
       "[<matplotlib.lines.Line2D at 0x7f77050601f0>]"
      ]
     },
     "execution_count": 11,
     "metadata": {},
     "output_type": "execute_result"
    },
    {
     "data": {
      "image/png": "[encoded data removed]",
      "text/plain": [
       "<Figure size 640x480 with 1 Axes>"
      ]
     },
     "metadata": {},
     "output_type": "display_data"
    }
   ],
   "source": [
    "plt.plot(d.data_wavelengths_norm, d.flux*d.flux_scaling)\n",
    "# d.data_wavelengths_norm, d.flux, d.err"
   ]
  },
  {
   "cell_type": "code",
   "execution_count": 14,
   "metadata": {},
   "outputs": [
    {
     "data": {
      "text/plain": [
       "40049.21152810275"
      ]
     },
     "execution_count": 14,
     "metadata": {},
     "output_type": "execute_result"
    }
   ],
   "source": [
    "d.flux.mean()"
   ]
  },
  {
   "cell_type": "code",
   "execution_count": 15,
   "metadata": {},
   "outputs": [
    {
     "data": {
      "text/plain": [
       "2.4969280588665137e-05"
      ]
     },
     "execution_count": 15,
     "metadata": {},
     "output_type": "execute_result"
    }
   ],
   "source": [
    "d.flux_scaling"
   ]
  },
  {
   "cell_type": "code",
   "execution_count": 26,
   "metadata": {},
   "outputs": [
    {
     "data": {
      "text/plain": [
       "1.0"
      ]
     },
     "execution_count": 26,
     "metadata": {},
     "output_type": "execute_result"
    }
   ],
   "source": [
    "d.flux.mean()*d.flux_scaling"
   ]
  },
  {
   "cell_type": "code",
   "execution_count": 31,
   "metadata": {},
   "outputs": [
    {
     "data": {
      "image/png": "[encoded data removed]",
      "text/plain": [
       "<Figure size 640x480 with 1 Axes>"
      ]
     },
     "metadata": {},
     "output_type": "display_data"
    }
   ],
   "source": [
    "plt.hist(m, bins=2000)\n",
    "plt.xlim(0, 200)\n",
    "plt.axvline(np.median(m), c= 'red')\n",
    "plt.axvline(d.flux.mean()*d.flux_scaling, c= 'black')\n",
    "\n",
    "plt.show()"
   ]
  },
  {
   "cell_type": "code",
   "execution_count": 30,
   "metadata": {},
   "outputs": [
    {
     "data": {
      "text/plain": [
       "14.251608848571777"
      ]
     },
     "execution_count": 30,
     "metadata": {},
     "output_type": "execute_result"
    }
   ],
   "source": [
    "np.median(m)"
   ]
  },
  {
   "cell_type": "code",
   "execution_count": 32,
   "metadata": {},
   "outputs": [
    {
     "data": {
      "text/plain": [
       "array([0.30022958, 0.30022958, 0.30022958, ..., 0.33489087, 0.33489087,\n",
       "       0.33489087])"
      ]
     },
     "execution_count": 32,
     "metadata": {},
     "output_type": "execute_result"
    }
   ],
   "source": [
    "Data().err * Data().flux_scaling*10"
   ]
  },
  {
   "cell_type": "code",
   "execution_count": null,
   "metadata": {},
   "outputs": [],
   "source": [
    "'''\n",
    "The models have been scaled (flux_scaling). \n",
    "These models seem to be too bright compared to the observation data, which also have been scaled. \n",
    "I need to scale these models to centre around the \n",
    "\n",
    "- remove everything bigger than 1e\n",
    "\n",
    "'''"
   ]
  },
  {
   "cell_type": "code",
   "execution_count": 27,
   "metadata": {},
   "outputs": [
    {
     "data": {
      "text/plain": [
       "(array([5.841e+03, 2.950e+02, 5.000e+00, 2.000e+00, 0.000e+00, 0.000e+00,\n",
       "        0.000e+00, 0.000e+00, 0.000e+00, 1.000e+00]),\n",
       " array([ 756.9818874 , 1235.13104721, 1713.28020702, 2191.42936683,\n",
       "        2669.57852664, 3147.72768645, 3625.87684626, 4104.02600607,\n",
       "        4582.17516588, 5060.32432569, 5538.4734855 ]),\n",
       " <BarContainer object of 10 artists>)"
      ]
     },
     "execution_count": 27,
     "metadata": {},
     "output_type": "execute_result"
    },
    {
     "data": {
      "image/png": "[encoded data removed]",
      "text/plain": [
       "<Figure size 640x480 with 1 Axes>"
      ]
     },
     "metadata": {},
     "output_type": "display_data"
    }
   ],
   "source": [
    "plt.hist(d.err)"
   ]
  },
  {
   "cell_type": "code",
   "execution_count": 47,
   "metadata": {},
   "outputs": [
    {
     "data": {
      "text/plain": [
       "1.3417954446041496"
      ]
     },
     "execution_count": 47,
     "metadata": {},
     "output_type": "execute_result"
    }
   ],
   "source": [
    "er = d.err*d.flux_scaling\n",
    "errr = er* 50\n",
    "errr.mean()"
   ]
  },
  {
   "cell_type": "code",
   "execution_count": 48,
   "metadata": {},
   "outputs": [
    {
     "data": {
      "text/plain": [
       "[<matplotlib.lines.Line2D at 0x7f7703dd2610>]"
      ]
     },
     "execution_count": 48,
     "metadata": {},
     "output_type": "execute_result"
    },
    {
     "data": {
      "image/png": "[encoded data removed]",
      "text/plain": [
       "<Figure size 640x480 with 1 Axes>"
      ]
     },
     "metadata": {},
     "output_type": "display_data"
    }
   ],
   "source": [
    "plt.plot(d.data_wavelengths_norm, d.err*d.flux_scaling*50)"
   ]
  },
  {
   "cell_type": "code",
   "execution_count": null,
   "metadata": {},
   "outputs": [],
   "source": []
  },
  {
   "cell_type": "code",
   "execution_count": 16,
   "metadata": {},
   "outputs": [],
   "source": [
    "batch_size = 32\n",
    "block_size = 512\n",
    "n_embedding = 512\n",
    "n_blocks = 12\n",
    "n_head = 8        \n",
    "\n",
    "def get_batch(data):\n",
    "    ix = torch.randint(len(data) - block_size, (batch_size,))\n",
    "    print(ix.size(), 'ix', ix)\n",
    "    x = torch.stack([data[i:i+block_size] for i in ix])\n",
    "    y = torch.stack([data[i+1:i+block_size+1] for i in ix])\n",
    "#     x, y = x.to(device), y.to(device)\n",
    "    return x, y"
   ]
  },
  {
   "cell_type": "code",
   "execution_count": 17,
   "metadata": {},
   "outputs": [],
   "source": [
    "data = torch.randn((7000)) "
   ]
  },
  {
   "cell_type": "code",
   "execution_count": 18,
   "metadata": {},
   "outputs": [
    {
     "name": "stdout",
     "output_type": "stream",
     "text": [
      "torch.Size([32]) ix tensor([1525,   28, 3290, 6305, 5129, 3275, 3783,  871, 6433, 3152, 2728, 5394,\n",
      "         964, 6352,  132, 2572, 4383, 2777,  917, 3844,  508, 4914, 5891, 2320,\n",
      "        5198,  879, 5984, 5207, 6182, 1685,  461, 4624])\n"
     ]
    }
   ],
   "source": [
    "x, y = get_batch(data)"
   ]
  },
  {
   "cell_type": "code",
   "execution_count": 19,
   "metadata": {},
   "outputs": [
    {
     "data": {
      "text/plain": [
       "(torch.Size([32, 512]), torch.Size([32, 512]))"
      ]
     },
     "execution_count": 19,
     "metadata": {},
     "output_type": "execute_result"
    }
   ],
   "source": [
    "x.size(), y.size()"
   ]
  },
  {
   "cell_type": "code",
   "execution_count": 20,
   "metadata": {},
   "outputs": [
    {
     "data": {
      "text/plain": [
       "16384"
      ]
     },
     "execution_count": 20,
     "metadata": {},
     "output_type": "execute_result"
    }
   ],
   "source": [
    "32*512"
   ]
  },
  {
   "cell_type": "code",
   "execution_count": null,
   "metadata": {
    "scrolled": true
   },
   "outputs": [],
   "source": []
  },
  {
   "cell_type": "code",
   "execution_count": null,
   "metadata": {},
   "outputs": [],
   "source": [
    "'''\n",
    "These are batch_size random words picked randomly, and their progression of words word+blocksize forms a block,\n",
    "that are processed parallely. each having a length of n_emb. \n",
    "\n",
    "the target is the words following it. \n",
    "\n",
    "so in my case, it would look like -\n",
    "\n",
    "batch_size = 32\n",
    "block_size = 512\n",
    "n_embedding = 512\n",
    "n_blocks = 12\n",
    "n_head = 8  \n",
    "\n",
    "'''"
   ]
  },
  {
   "cell_type": "code",
   "execution_count": null,
   "metadata": {},
   "outputs": [],
   "source": []
  },
  {
   "cell_type": "code",
   "execution_count": 26,
   "metadata": {},
   "outputs": [],
   "source": [
    "import tokenizers\n",
    "tokenizer = tokenizers.ByteLevelBPETokenizer()\n",
    "# tokenizer.train(\"harry-potter.txt\")\n",
    "vocab_size = 7000\n",
    "encode = lambda s: tokenizer.encode(s).ids\n",
    "decode = lambda l: tokenizer.decode(l)"
   ]
  },
  {
   "cell_type": "code",
   "execution_count": 27,
   "metadata": {},
   "outputs": [
    {
     "data": {
      "text/plain": [
       "<function __main__.<lambda>(s)>"
      ]
     },
     "execution_count": 27,
     "metadata": {},
     "output_type": "execute_result"
    }
   ],
   "source": [
    "encode"
   ]
  },
  {
   "cell_type": "code",
   "execution_count": null,
   "metadata": {},
   "outputs": [],
   "source": []
  }
 ],
 "metadata": {
  "kernelspec": {
   "display_name": "Python [conda env:HighResear]",
   "language": "python",
   "name": "conda-env-HighResear-py"
  },
  "language_info": {
   "codemirror_mode": {
    "name": "ipython",
    "version": 3
   },
   "file_extension": ".py",
   "mimetype": "text/x-python",
   "name": "python",
   "nbconvert_exporter": "python",
   "pygments_lexer": "ipython3",
   "version": "3.9.7"
  }
 },
 "nbformat": 4,
 "nbformat_minor": 2
}
